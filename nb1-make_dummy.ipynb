{
 "cells": [
  {
   "cell_type": "markdown",
   "metadata": {},
   "source": [
    "## Dummify Data!!\n",
    "\n",
    "### Problem:\n",
    "Developing codes to process confidential and above data is incovenient because the data must reside in a GSIB environment which is ill-equipped for software-dev (no IDE, no plugins, no docker, version control is...).\n",
    "\n",
    "Sometimes even just masking the identifiable fields is not enough to render data sufficiently de-classified. E.g. income distribution.\n",
    "\n",
    "### Solution:\n",
    "An automated process to generate safe fake data given the real table as input. Auto-detection of column types and returns pseudo-realistic verion of the original table.\n",
    "\n",
    "### Limitations:\n",
    "The dummified data is meant to test code workability only, not for analysis since all realistic distributions and correlations are destroyed in the dummification process."
   ]
  },
  {
   "cell_type": "code",
   "execution_count": null,
   "metadata": {},
   "outputs": [],
   "source": []
  },
  {
   "cell_type": "code",
   "execution_count": null,
   "metadata": {},
   "outputs": [],
   "source": []
  },
  {
   "cell_type": "markdown",
   "metadata": {},
   "source": [
    "## Imports"
   ]
  },
  {
   "cell_type": "code",
   "execution_count": 1,
   "metadata": {},
   "outputs": [],
   "source": [
    "import pandas as pd"
   ]
  },
  {
   "cell_type": "code",
   "execution_count": null,
   "metadata": {},
   "outputs": [],
   "source": []
  },
  {
   "cell_type": "markdown",
   "metadata": {},
   "source": [
    "## Read \"original\""
   ]
  },
  {
   "cell_type": "code",
   "execution_count": 2,
   "metadata": {},
   "outputs": [],
   "source": [
    "df_orig = pd.read_csv(\"data/sample_data.csv\")"
   ]
  },
  {
   "cell_type": "code",
   "execution_count": 3,
   "metadata": {},
   "outputs": [
    {
     "data": {
      "text/html": [
       "<div>\n",
       "<style scoped>\n",
       "    .dataframe tbody tr th:only-of-type {\n",
       "        vertical-align: middle;\n",
       "    }\n",
       "\n",
       "    .dataframe tbody tr th {\n",
       "        vertical-align: top;\n",
       "    }\n",
       "\n",
       "    .dataframe thead th {\n",
       "        text-align: right;\n",
       "    }\n",
       "</style>\n",
       "<table border=\"1\" class=\"dataframe\">\n",
       "  <thead>\n",
       "    <tr style=\"text-align: right;\">\n",
       "      <th></th>\n",
       "      <th>name</th>\n",
       "      <th>age</th>\n",
       "      <th>income</th>\n",
       "      <th>gender</th>\n",
       "    </tr>\n",
       "  </thead>\n",
       "  <tbody>\n",
       "    <tr>\n",
       "      <th>0</th>\n",
       "      <td>Aaron Lee</td>\n",
       "      <td>26</td>\n",
       "      <td>7077.895077</td>\n",
       "      <td>M</td>\n",
       "    </tr>\n",
       "    <tr>\n",
       "      <th>1</th>\n",
       "      <td>Abdul Halim bin Haron</td>\n",
       "      <td>38</td>\n",
       "      <td>9148.225942</td>\n",
       "      <td>M</td>\n",
       "    </tr>\n",
       "    <tr>\n",
       "      <th>2</th>\n",
       "      <td>Abdullah Tarmugi</td>\n",
       "      <td>21</td>\n",
       "      <td>13313.700704</td>\n",
       "      <td>m</td>\n",
       "    </tr>\n",
       "    <tr>\n",
       "      <th>3</th>\n",
       "      <td>Adnan Bin Saidi</td>\n",
       "      <td>33</td>\n",
       "      <td>9197.348845</td>\n",
       "      <td>M</td>\n",
       "    </tr>\n",
       "    <tr>\n",
       "      <th>4</th>\n",
       "      <td>Adrian Pang</td>\n",
       "      <td>41</td>\n",
       "      <td>7225.228331</td>\n",
       "      <td>m</td>\n",
       "    </tr>\n",
       "    <tr>\n",
       "      <th>5</th>\n",
       "      <td>Agu Casmir</td>\n",
       "      <td>22</td>\n",
       "      <td>9977.319644</td>\n",
       "      <td>F</td>\n",
       "    </tr>\n",
       "    <tr>\n",
       "      <th>6</th>\n",
       "      <td>Albert Winsemius</td>\n",
       "      <td>68</td>\n",
       "      <td>12649.718205</td>\n",
       "      <td>F</td>\n",
       "    </tr>\n",
       "    <tr>\n",
       "      <th>7</th>\n",
       "      <td>Aloysius Pang (Wei Chong)</td>\n",
       "      <td>55</td>\n",
       "      <td>8206.125254</td>\n",
       "      <td>f</td>\n",
       "    </tr>\n",
       "  </tbody>\n",
       "</table>\n",
       "</div>"
      ],
      "text/plain": [
       "                        name  age        income gender\n",
       "0                  Aaron Lee   26   7077.895077      M\n",
       "1      Abdul Halim bin Haron   38   9148.225942      M\n",
       "2           Abdullah Tarmugi   21  13313.700704      m\n",
       "3            Adnan Bin Saidi   33   9197.348845      M\n",
       "4                Adrian Pang   41   7225.228331      m\n",
       "5                 Agu Casmir   22   9977.319644      F\n",
       "6           Albert Winsemius   68  12649.718205      F\n",
       "7  Aloysius Pang (Wei Chong)   55   8206.125254      f"
      ]
     },
     "execution_count": 3,
     "metadata": {},
     "output_type": "execute_result"
    }
   ],
   "source": [
    "df_orig.head(8)"
   ]
  },
  {
   "cell_type": "code",
   "execution_count": null,
   "metadata": {},
   "outputs": [],
   "source": []
  },
  {
   "cell_type": "markdown",
   "metadata": {},
   "source": [
    "## Functions"
   ]
  },
  {
   "cell_type": "code",
   "execution_count": 4,
   "metadata": {},
   "outputs": [],
   "source": [
    "### TODO: What if data imperfect... actually numerical but tainted with string...?"
   ]
  },
  {
   "cell_type": "code",
   "execution_count": 5,
   "metadata": {},
   "outputs": [],
   "source": [
    "### Categorical! This needs some smarts... each category must be chosen once?\n",
    "### We ensure each category is represented at least once!\n",
    "max_cats = 8\n",
    "\n",
    "def looksCategorical(ser, max_cats=max_cats):\n",
    "    return len(ser.unique()) <= max_cats\n",
    "\n",
    "def genCategoricals(ser, gen_size):\n",
    "    cat_set = ser.unique().tolist()\n",
    "    gen_remainder = gen_size - len(cat_set)\n",
    "    \n",
    "    ### Can make as warning instead...?\n",
    "    assert gen_remainder > 0\n",
    "    \n",
    "    dummy_cats = cat_set + np.random.choice(ser, gen_remainder).tolist()\n",
    "    np.random.shuffle(dummy_cats)\n",
    "    \n",
    "    return dummy_cats"
   ]
  },
  {
   "cell_type": "code",
   "execution_count": 6,
   "metadata": {},
   "outputs": [],
   "source": [
    "### Uses markov model to generate dummy text\n",
    "import markovify\n",
    "\n",
    "def tryUntilCondition(func, cond):\n",
    "    a = func()\n",
    "    if cond(a):\n",
    "        return a\n",
    "    else:\n",
    "        return tryUntilCondition(func, cond)\n",
    "\n",
    "def genDummyStrings(ser, gen_size, state_size=3):\n",
    "    char_model = markovify.Chain(\n",
    "        [list(strg) for strg in ser],\n",
    "        state_size = state_size\n",
    "    )\n",
    "    \n",
    "    min_len = min([len(strg) for strg in ser])\n",
    "    \n",
    "    dummy_strs = [\n",
    "        tryUntilCondition(\n",
    "            lambda: ''.join(char_model.gen()),\n",
    "            lambda s: (len(s) > min_len) & (s not in ser.values)\n",
    "        ) for _ in range(gen_size)]\n",
    "    \n",
    "    return dummy_strs"
   ]
  },
  {
   "cell_type": "code",
   "execution_count": 7,
   "metadata": {},
   "outputs": [],
   "source": [
    "### Use a uniform distribution model to generate floats or integers\n",
    "\n",
    "### Wanna be smart and detect distribution?\n",
    "### Detect decimal place.. truncate to same d.p.\n",
    "\n",
    "import numpy as np\n",
    "\n",
    "def genNumericals(ser, gen_size):\n",
    "    dummy_numbers = np.random.uniform(\n",
    "        ser.quantile(q=0.05), ser.quantile(q=0.95), size=gen_size\n",
    "    )\n",
    "    \n",
    "    return dummy_numbers"
   ]
  },
  {
   "cell_type": "code",
   "execution_count": 8,
   "metadata": {},
   "outputs": [],
   "source": [
    "### Pepper with nulls?"
   ]
  },
  {
   "cell_type": "code",
   "execution_count": 9,
   "metadata": {},
   "outputs": [],
   "source": [
    "### Very specific generators e.g. IC, UEN... to conform to some regex?"
   ]
  },
  {
   "cell_type": "code",
   "execution_count": null,
   "metadata": {},
   "outputs": [],
   "source": []
  },
  {
   "cell_type": "code",
   "execution_count": null,
   "metadata": {},
   "outputs": [],
   "source": []
  },
  {
   "cell_type": "markdown",
   "metadata": {},
   "source": [
    "## Generate dummy"
   ]
  },
  {
   "cell_type": "code",
   "execution_count": 10,
   "metadata": {},
   "outputs": [],
   "source": [
    "### Params\n",
    "size_dummy = 50\n",
    "df_dummy = pd.DataFrame()"
   ]
  },
  {
   "cell_type": "code",
   "execution_count": 11,
   "metadata": {},
   "outputs": [],
   "source": [
    "for col in df_orig:\n",
    "    ser = df_orig[col]\n",
    "    \n",
    "    ### If categorical\n",
    "    if looksCategorical(ser):\n",
    "        df_dummy[col] = genCategoricals(ser, size_dummy)\n",
    "    \n",
    "    else:\n",
    "        ### If string\n",
    "        if ser.dtypes.name == \"object\":\n",
    "            df_dummy[col] = genDummyStrings(ser, size_dummy)\n",
    "\n",
    "        ### If float64\n",
    "        if ser.dtypes.name == \"float64\":\n",
    "            df_dummy[col] = genNumericals(ser, size_dummy)\n",
    "\n",
    "        ### If Int64\n",
    "        if ser.dtypes.name == \"int64\":\n",
    "            df_dummy[col] = [int(n) for n in genNumericals(ser, size_dummy)]"
   ]
  },
  {
   "cell_type": "code",
   "execution_count": 12,
   "metadata": {},
   "outputs": [
    {
     "data": {
      "text/html": [
       "<div>\n",
       "<style scoped>\n",
       "    .dataframe tbody tr th:only-of-type {\n",
       "        vertical-align: middle;\n",
       "    }\n",
       "\n",
       "    .dataframe tbody tr th {\n",
       "        vertical-align: top;\n",
       "    }\n",
       "\n",
       "    .dataframe thead th {\n",
       "        text-align: right;\n",
       "    }\n",
       "</style>\n",
       "<table border=\"1\" class=\"dataframe\">\n",
       "  <thead>\n",
       "    <tr style=\"text-align: right;\">\n",
       "      <th></th>\n",
       "      <th>name</th>\n",
       "      <th>age</th>\n",
       "      <th>income</th>\n",
       "      <th>gender</th>\n",
       "    </tr>\n",
       "  </thead>\n",
       "  <tbody>\n",
       "    <tr>\n",
       "      <th>0</th>\n",
       "      <td>Lim Heng Tee</td>\n",
       "      <td>28</td>\n",
       "      <td>11936.404084</td>\n",
       "      <td>m</td>\n",
       "    </tr>\n",
       "    <tr>\n",
       "      <th>1</th>\n",
       "      <td>Vivia Khian</td>\n",
       "      <td>27</td>\n",
       "      <td>8490.249465</td>\n",
       "      <td>M</td>\n",
       "    </tr>\n",
       "    <tr>\n",
       "      <th>2</th>\n",
       "      <td>Chia Thian Seng</td>\n",
       "      <td>59</td>\n",
       "      <td>9186.113519</td>\n",
       "      <td>M</td>\n",
       "    </tr>\n",
       "    <tr>\n",
       "      <th>3</th>\n",
       "      <td>Davin Pang</td>\n",
       "      <td>47</td>\n",
       "      <td>8335.586088</td>\n",
       "      <td>m</td>\n",
       "    </tr>\n",
       "    <tr>\n",
       "      <th>4</th>\n",
       "      <td>Toh Choh</td>\n",
       "      <td>22</td>\n",
       "      <td>8720.765552</td>\n",
       "      <td>m</td>\n",
       "    </tr>\n",
       "    <tr>\n",
       "      <th>5</th>\n",
       "      <td>Natashak</td>\n",
       "      <td>52</td>\n",
       "      <td>11431.046348</td>\n",
       "      <td>m</td>\n",
       "    </tr>\n",
       "    <tr>\n",
       "      <th>6</th>\n",
       "      <td>Lee Huei Ming</td>\n",
       "      <td>51</td>\n",
       "      <td>8431.490648</td>\n",
       "      <td>F</td>\n",
       "    </tr>\n",
       "    <tr>\n",
       "      <th>7</th>\n",
       "      <td>Abdullah Kee</td>\n",
       "      <td>24</td>\n",
       "      <td>9593.843673</td>\n",
       "      <td>M</td>\n",
       "    </tr>\n",
       "    <tr>\n",
       "      <th>8</th>\n",
       "      <td>Fandan</td>\n",
       "      <td>54</td>\n",
       "      <td>13042.247801</td>\n",
       "      <td>F</td>\n",
       "    </tr>\n",
       "    <tr>\n",
       "      <th>9</th>\n",
       "      <td>Kelvinder Chin</td>\n",
       "      <td>21</td>\n",
       "      <td>8274.527587</td>\n",
       "      <td>M</td>\n",
       "    </tr>\n",
       "    <tr>\n",
       "      <th>10</th>\n",
       "      <td>Lionel Beng Steve</td>\n",
       "      <td>65</td>\n",
       "      <td>8573.249126</td>\n",
       "      <td>m</td>\n",
       "    </tr>\n",
       "    <tr>\n",
       "      <th>11</th>\n",
       "      <td>Hoi Kim Kim Yew</td>\n",
       "      <td>32</td>\n",
       "      <td>8023.890401</td>\n",
       "      <td>f</td>\n",
       "    </tr>\n",
       "    <tr>\n",
       "      <th>12</th>\n",
       "      <td>Benjamin Tony</td>\n",
       "      <td>32</td>\n",
       "      <td>13072.720958</td>\n",
       "      <td>M</td>\n",
       "    </tr>\n",
       "    <tr>\n",
       "      <th>13</th>\n",
       "      <td>Tan Hean</td>\n",
       "      <td>47</td>\n",
       "      <td>9595.412994</td>\n",
       "      <td>m</td>\n",
       "    </tr>\n",
       "    <tr>\n",
       "      <th>14</th>\n",
       "      <td>Adrian</td>\n",
       "      <td>47</td>\n",
       "      <td>13186.688137</td>\n",
       "      <td>f</td>\n",
       "    </tr>\n",
       "    <tr>\n",
       "      <th>15</th>\n",
       "      <td>Kym Ng Song Chrishnan Jun Hong</td>\n",
       "      <td>38</td>\n",
       "      <td>10123.328666</td>\n",
       "      <td>m</td>\n",
       "    </tr>\n",
       "    <tr>\n",
       "      <th>16</th>\n",
       "      <td>Joshua Phun San</td>\n",
       "      <td>40</td>\n",
       "      <td>9342.549830</td>\n",
       "      <td>f</td>\n",
       "    </tr>\n",
       "    <tr>\n",
       "      <th>17</th>\n",
       "      <td>Vivian Chiam Jayakumar</td>\n",
       "      <td>49</td>\n",
       "      <td>10072.289089</td>\n",
       "      <td>M</td>\n",
       "    </tr>\n",
       "    <tr>\n",
       "      <th>18</th>\n",
       "      <td>Subhas Anan Lim Kin Lim</td>\n",
       "      <td>24</td>\n",
       "      <td>11344.480551</td>\n",
       "      <td>f</td>\n",
       "    </tr>\n",
       "    <tr>\n",
       "      <th>19</th>\n",
       "      <td>Khoon Chong</td>\n",
       "      <td>43</td>\n",
       "      <td>12772.988150</td>\n",
       "      <td>m</td>\n",
       "    </tr>\n",
       "  </tbody>\n",
       "</table>\n",
       "</div>"
      ],
      "text/plain": [
       "                              name  age        income gender\n",
       "0                     Lim Heng Tee   28  11936.404084      m\n",
       "1                      Vivia Khian   27   8490.249465      M\n",
       "2                  Chia Thian Seng   59   9186.113519      M\n",
       "3                       Davin Pang   47   8335.586088      m\n",
       "4                         Toh Choh   22   8720.765552      m\n",
       "5                         Natashak   52  11431.046348      m\n",
       "6                    Lee Huei Ming   51   8431.490648      F\n",
       "7                     Abdullah Kee   24   9593.843673      M\n",
       "8                           Fandan   54  13042.247801      F\n",
       "9                   Kelvinder Chin   21   8274.527587      M\n",
       "10               Lionel Beng Steve   65   8573.249126      m\n",
       "11                 Hoi Kim Kim Yew   32   8023.890401      f\n",
       "12                   Benjamin Tony   32  13072.720958      M\n",
       "13                        Tan Hean   47   9595.412994      m\n",
       "14                          Adrian   47  13186.688137      f\n",
       "15  Kym Ng Song Chrishnan Jun Hong   38  10123.328666      m\n",
       "16                 Joshua Phun San   40   9342.549830      f\n",
       "17          Vivian Chiam Jayakumar   49  10072.289089      M\n",
       "18         Subhas Anan Lim Kin Lim   24  11344.480551      f\n",
       "19                     Khoon Chong   43  12772.988150      m"
      ]
     },
     "execution_count": 12,
     "metadata": {},
     "output_type": "execute_result"
    }
   ],
   "source": [
    "df_dummy.head(20)"
   ]
  },
  {
   "cell_type": "code",
   "execution_count": null,
   "metadata": {},
   "outputs": [],
   "source": []
  },
  {
   "cell_type": "code",
   "execution_count": null,
   "metadata": {},
   "outputs": [],
   "source": []
  },
  {
   "cell_type": "markdown",
   "metadata": {},
   "source": [
    "## Imperfect data"
   ]
  },
  {
   "cell_type": "code",
   "execution_count": 17,
   "metadata": {},
   "outputs": [],
   "source": [
    "s = pd.Series(list(range(1000)) + [\"n.a.\"])"
   ]
  },
  {
   "cell_type": "code",
   "execution_count": 18,
   "metadata": {},
   "outputs": [
    {
     "data": {
      "text/plain": [
       "0          0\n",
       "1          1\n",
       "2          2\n",
       "3          3\n",
       "4          4\n",
       "        ... \n",
       "996      996\n",
       "997      997\n",
       "998      998\n",
       "999      999\n",
       "1000    n.a.\n",
       "Length: 1001, dtype: object"
      ]
     },
     "execution_count": 18,
     "metadata": {},
     "output_type": "execute_result"
    }
   ],
   "source": [
    "s"
   ]
  },
  {
   "cell_type": "code",
   "execution_count": 19,
   "metadata": {},
   "outputs": [],
   "source": [
    "### Should be integer..... any better way to check?"
   ]
  },
  {
   "cell_type": "code",
   "execution_count": 20,
   "metadata": {},
   "outputs": [
    {
     "data": {
      "text/plain": [
       "0"
      ]
     },
     "execution_count": 20,
     "metadata": {},
     "output_type": "execute_result"
    }
   ],
   "source": []
  },
  {
   "cell_type": "code",
   "execution_count": null,
   "metadata": {},
   "outputs": [],
   "source": []
  },
  {
   "cell_type": "raw",
   "metadata": {},
   "source": [
    "\n"
   ]
  }
 ],
 "metadata": {
  "kernelspec": {
   "display_name": "py37_deeplearning",
   "language": "python",
   "name": "py37_deeplearning"
  },
  "language_info": {
   "codemirror_mode": {
    "name": "ipython",
    "version": 3
   },
   "file_extension": ".py",
   "mimetype": "text/x-python",
   "name": "python",
   "nbconvert_exporter": "python",
   "pygments_lexer": "ipython3",
   "version": "3.7.6"
  }
 },
 "nbformat": 4,
 "nbformat_minor": 4
}
